{
 "cells": [
  {
   "cell_type": "markdown",
   "metadata": {},
   "source": [
    "# Turtle et notebook Jupyter\n",
    "> un module pour utiliser la tortue dans un notebook\n",
    "\n",
    "- toc:true\n",
    "- branch: master\n",
    "- badges: true\n",
    "- author: Nathalie Weibel\n",
    "- image : images/tortue.png\n",
    "- categories: [jupyter, tortue]"
   ]
  },
  {
   "cell_type": "markdown",
   "metadata": {},
   "source": [
    "Le module `mobilechelonian` permet d'utiliser une grande part des instructions Turtle dans un notebook Jupyter. \n",
    "\n",
    "Documentation : https://pypi.org/project/mobilechelonian/ "
   ]
  },
  {
   "cell_type": "markdown",
   "metadata": {},
   "source": [
    "Installation du module : \n",
    "`pip install mobilechelonian`\n"
   ]
  },
  {
   "cell_type": "code",
   "execution_count": 1,
   "metadata": {
    "execution": {
     "iopub.execute_input": "2020-08-25T09:57:29.424Z",
     "iopub.status.busy": "2020-08-25T09:57:29.419Z",
     "iopub.status.idle": "2020-08-25T09:57:29.436Z",
     "shell.execute_reply": "2020-08-25T09:57:30.869Z"
    }
   },
   "outputs": [],
   "source": [
    "from mobilechelonian import Turtle"
   ]
  },
  {
   "cell_type": "code",
   "execution_count": 7,
   "metadata": {
    "execution": {
     "iopub.execute_input": "2020-08-25T09:57:29.457Z",
     "iopub.status.busy": "2020-08-25T09:57:29.449Z",
     "iopub.status.idle": "2020-08-25T09:57:29.513Z",
     "shell.execute_reply": "2020-08-25T09:57:30.872Z"
    }
   },
   "outputs": [
    {
     "data": {
      "application/vnd.jupyter.widget-view+json": {
       "model_id": "5f5258e3997a4a3ea65bf01e535741d4",
       "version_major": 2,
       "version_minor": 0
      },
      "text/plain": [
       "Turtle()"
      ]
     },
     "metadata": {},
     "output_type": "display_data"
    }
   ],
   "source": [
    "t = Turtle()\n",
    "t.speed(3)\n",
    "for loop in range(6) :\n",
    "    t.forward(100)\n",
    "    t.left(60)\n",
    "    "
   ]
  },
  {
   "cell_type": "code",
   "execution_count": 3,
   "metadata": {
    "execution": {
     "iopub.execute_input": "2020-08-25T09:57:29.528Z",
     "iopub.status.busy": "2020-08-25T09:57:29.523Z",
     "iopub.status.idle": "2020-08-25T09:57:29.663Z",
     "shell.execute_reply": "2020-08-25T09:57:30.874Z"
    },
    "scrolled": false
   },
   "outputs": [
    {
     "data": {
      "application/vnd.jupyter.widget-view+json": {
       "model_id": "71c34d5aaa834bf891f25a12c920d755",
       "version_major": 2,
       "version_minor": 0
      },
      "text/plain": [
       "Turtle()"
      ]
     },
     "metadata": {},
     "output_type": "display_data"
    }
   ],
   "source": [
    "def hexagone(taille):\n",
    "    for loop in range(6) :\n",
    "        t.forward(taille)\n",
    "        t.left(60)\n",
    "\n",
    "t = Turtle()\n",
    "t.speed(5)\n",
    "for i in range(3):\n",
    "    t.setbearing(120*i)\n",
    "    hexagone(80)\n"
   ]
  },
  {
   "cell_type": "code",
   "execution_count": 4,
   "metadata": {
    "execution": {
     "iopub.execute_input": "2020-08-25T09:57:29.674Z",
     "iopub.status.busy": "2020-08-25T09:57:29.669Z",
     "iopub.status.idle": "2020-08-25T09:57:29.794Z",
     "shell.execute_reply": "2020-08-25T09:57:30.876Z"
    }
   },
   "outputs": [
    {
     "data": {
      "application/vnd.jupyter.widget-view+json": {
       "model_id": "e6a9deecceb848d9b6a611509c8130d1",
       "version_major": 2,
       "version_minor": 0
      },
      "text/plain": [
       "Turtle()"
      ]
     },
     "metadata": {},
     "output_type": "display_data"
    }
   ],
   "source": [
    "t = Turtle()\n",
    "t.speed(5)\n",
    "colours=[\"red\",\"blue\",\"yellow\", \"green\", \"white\", \"cyan\", \"orange\", \"pink\", \"lightgreen\"]\n",
    "\n",
    "t.penup()\n",
    "t.left(90)\n",
    "t.forward(200)\n",
    "t.right(90)\n",
    "t.pendown()\n",
    "\n",
    "for i in range (18):\n",
    "    t.pencolor(colours[i%9])\n",
    "    t.right(20)\n",
    "    t.forward(50)\n",
    "\n",
    "t.right(180)\n",
    "t.home()"
   ]
  },
  {
   "cell_type": "markdown",
   "metadata": {},
   "source": [
    "## Méthodes disponibles"
   ]
  },
  {
   "cell_type": "markdown",
   "metadata": {},
   "source": [
    "**forward(num)**\n",
    ">Fait avancer la tortue de `num` unités.\n",
    "      \n",
    "       Exemple:  \n",
    "       t.forward(100)\n",
    "\n",
    "\n",
    "**backward(num)**    \n",
    ">Fait reculer la tortue de `num` unités.\n",
    "       \n",
    "       Exemple:  \n",
    "       t.backward(100)\n",
    "       \n",
    "\n",
    "**left(num)**\n",
    ">Fait tourner la tortue de `num` degrés vers la gauche.\n",
    "       \n",
    "       Exemple:  \n",
    "       t.left(90)\n",
    "\n",
    "\n",
    "**right(num)**\n",
    "> Fait tourner la tortue de `num` degrés vers la droite.\n",
    "       \n",
    "       Exemple:  \n",
    "       t.right(90)\n",
    "  \n",
    "\n",
    "**circle(rayon, angle=360)**\n",
    "> Trace un cercle ou un arc de cercle  \n",
    "À partir de sa position actuelle, la tortue dessinera une série de lignes courtes, tournant légèrement entre 2 lignes. Si le rayon est positif, elle tournera sur sa gauche et  si le rayon est négatif  elle tournera sur sa droite.\n",
    "       \n",
    "       Exemple:  \n",
    "       t.circle(50)\n",
    "   \n",
    "\n",
    "**home()**\n",
    ">Déplace la tortue à sa position d'origine.\n",
    "       \n",
    "       Exemple:  \n",
    "       t.home()\n",
    "   \n",
    "   \n",
    "**pencolor(color)**\n",
    "> Change la couleur du stylo, noire par défaut.   \n",
    "Couleurs disponibles : \"red\",\"blue\",\"yellow\",\"brown\",\"black\",\"green\",\"purple\", \"white\", \"cyan\", \n",
    "         \"orange\", \"grey\", \"pink\", \"lightgreen\", \"lightblue\"\n",
    "      \n",
    "       Exemple:  \n",
    "       t.pencolor(\"red\")\n",
    "   \n",
    "**pendown()**\n",
    ">Baisse le stylo. Au départ, le stylo est abaissé.\n",
    "       \n",
    "       Exemple:  \n",
    "       t.pendown()\n",
    "  \n",
    "**penup()**\n",
    ">Relève le stylo.\n",
    "       \n",
    "       Exemple:  \n",
    "       t.penup()\n",
    "\n",
    "   \n",
    "**setbearing(angle)**\n",
    ">Change la direction de la tortue.\n",
    "       \n",
    "       Exemple:  \n",
    "       t.setbearing(180)\n",
    "   \n",
    "**setposition(x, y, bearing=None)**\n",
    ">Change la position de la tortue.\n",
    "       \n",
    "       Exemple:  \n",
    "       t.setposition(100, 100)\n",
    "   \n",
    "**speed(speed)**\n",
    ">Modifie la vitesse de la tortue (entre 1 et 10).\n",
    "       \n",
    "       Exemple:  \n",
    "       t.speed(10) "
   ]
  },
  {
   "cell_type": "markdown",
   "metadata": {},
   "source": [
    "## Exemple de tracé récursif"
   ]
  },
  {
   "cell_type": "code",
   "execution_count": 5,
   "metadata": {
    "execution": {
     "iopub.execute_input": "2020-08-25T09:57:29.807Z",
     "iopub.status.busy": "2020-08-25T09:57:29.802Z",
     "iopub.status.idle": "2020-08-25T09:57:33.053Z",
     "shell.execute_reply": "2020-08-25T09:57:33.059Z"
    }
   },
   "outputs": [
    {
     "data": {
      "application/vnd.jupyter.widget-view+json": {
       "model_id": "7ac46bfedb574243a4217c1316c91660",
       "version_major": 2,
       "version_minor": 0
      },
      "text/plain": [
       "Turtle()"
      ]
     },
     "metadata": {},
     "output_type": "display_data"
    }
   ],
   "source": [
    "t = Turtle()\n",
    "t.speed(10)\n",
    "\n",
    "def koch(n,longueur):\n",
    "    if n==0:\n",
    "        t.forward(longueur)\n",
    "    else:\n",
    "        koch(n-1,longueur/3)\n",
    "        t.left(60)\n",
    "        koch(n-1,longueur/3)\n",
    "        t.right(120)\n",
    "        koch(n-1,longueur/3)\n",
    "        t.left(60)\n",
    "        koch(n-1,longueur/3)      \n",
    "\n",
    "t.penup()\n",
    "t.left(90)\n",
    "t.forward(150)\n",
    "t.right(180)\n",
    "t.pendown()\n",
    "koch(4,300)"
   ]
  },
  {
   "cell_type": "code",
   "execution_count": null,
   "metadata": {
    "jupyter": {
     "outputs_hidden": false,
     "source_hidden": false
    },
    "nteract": {
     "transient": {
      "deleting": false
     }
    }
   },
   "outputs": [],
   "source": []
  }
 ],
 "metadata": {
  "kernelspec": {
   "display_name": "Python 3",
   "language": "python",
   "name": "python3"
  },
  "language_info": {
   "codemirror_mode": {
    "name": "ipython",
    "version": 3
   },
   "file_extension": ".py",
   "mimetype": "text/x-python",
   "name": "python",
   "nbconvert_exporter": "python",
   "pygments_lexer": "ipython3",
   "version": "3.8.3"
  },
  "nteract": {
   "version": "0.24.0"
  }
 },
 "nbformat": 4,
 "nbformat_minor": 4
}
