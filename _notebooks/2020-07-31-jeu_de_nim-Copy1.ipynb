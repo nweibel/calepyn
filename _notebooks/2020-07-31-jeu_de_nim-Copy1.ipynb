{
 "cells": [
  {
   "cell_type": "markdown",
   "metadata": {
    "nteract": {
     "transient": {
      "deleting": false
     }
    }
   },
   "source": [
    "# Le jeu de Nim par apprentissage\n",
    "> \"Quand une machine apprend à jouer contre son adversaire au fur et à mesure des parties ~~jouées~~ perdues\"\n",
    "\n",
    "- toc:true\n",
    "- branch: master\n",
    "- badges: true\n",
    "- author: Nathalie Weibel\n",
    "- image : images/allumettes.png\n",
    "- categories: [jupyter, jeu]"
   ]
  },
  {
   "cell_type": "markdown",
   "metadata": {
    "slideshow": {
     "slide_type": "-"
    }
   },
   "source": [
    "## Les Règles du jeu"
   ]
  },
  {
   "cell_type": "markdown",
   "metadata": {
    "slideshow": {
     "slide_type": "-"
    }
   },
   "source": [
    "**Nombre de joueurs** : 2\n",
    "\n",
    "**Principe** : on dispose de 8 allumettes. Chaque joueur peut prendre 1, 2 ou 3 allumettes, à tour de rôle. \n",
    "Celui qui prend la *dernière* allumette *gagne* la partie. \n"
   ]
  },
  {
   "cell_type": "markdown",
   "metadata": {},
   "source": [
    "![](my_icons/allumettes.png)"
   ]
  },
  {
   "cell_type": "markdown",
   "metadata": {},
   "source": [
    "### Remarque : \n",
    "\n",
    "Le jeu de Nim est cité comme exemple d'activité dans le thème E des programmes de mathématiques du cycle 4. \n",
    "\n",
    "On peut par exemple programmer sur Scratch un jeu opposant un adversaire humain à \"l'ordinateur\" : ici avec 12 \"bougies\".\n",
    "\n",
    "![](my_icons/scratch_ecran.png)  \n",
    "\n",
    "Dans ce contexte, on écrit un algorithme qui décide ce que va jouer la machine.   \n",
    "L'agorithme attendu peut-être \"naïf\" : \n",
    "![](my_icons/scratch_machine_naif.png)\n",
    "    ou expert (pour une machine qui ne commence pas la partie) :\n",
    "![](my_icons/scratch_machine_expert.png)\n",
    "\n",
    "Différentes versions sont disponibles dans ce studio Scratch : \n",
    "https://scratch.mit.edu/studios/28731231/ "
   ]
  },
  {
   "cell_type": "markdown",
   "metadata": {
    "slideshow": {
     "slide_type": "-"
    }
   },
   "source": [
    "## Objectif : \n",
    "L'un des joueurs est un humain, l'autre joueur est \"une machine\". Celle-ci doit apprendre à jouer contre son adversaire au fur et à mesure des parties jouées.\n",
    "\n",
    "Cette activité présente ainsi une forme simple d'**apprentissage**, à l'issue duquel la machine aboutit à la stratégie gagnante à ce jeu."
   ]
  },
  {
   "cell_type": "markdown",
   "metadata": {
    "slideshow": {
     "slide_type": "-"
    }
   },
   "source": [
    "## Version 1 : sans ordinateur"
   ]
  },
  {
   "cell_type": "markdown",
   "metadata": {
    "slideshow": {
     "slide_type": "-"
    }
   },
   "source": [
    "**Matériel** :\n",
    "- 8 allumettes\n",
    "- 8 gobelets numérotés de 1 à 8\n",
    "- 21 jetons : 8 jetons portant le **n°1**, 7 jetons portant le **n°2** et 6 jetons portant le **n°3**.\n",
    "\n",
    "Chaque gobelet contient 3 jetons numérotés 1, 2, et 3, sauf le gobelet 1 qui ne contient qu'un jeton numéroté 1, et le gobelet 2 qui ne contient que deux jetons numérotés 1 et 2.\n",
    "\n",
    "![](my_icons/gobelets_pt.png)"
   ]
  },
  {
   "cell_type": "markdown",
   "metadata": {
    "slideshow": {
     "slide_type": "-"
    }
   },
   "source": [
    "**Déroulement**:\n",
    "\n",
    "Commencer une partie en laissant l'humain jouer en premier. L'humain joue comme il veut...\n",
    "\n",
    "Lorsque c'est à la machine de jouer, elle :\n",
    "- compte le nombre d'allumettes restant et prend le gobelet correspondant,\n",
    "- pioche au hasard un jeton dans le gobelet, le pose sur la table juste devant ce gobelet, et pioche le nombre d'allumettes indiqué par le jeton (1, 2 ou 3).\n",
    "\n"
   ]
  },
  {
   "cell_type": "markdown",
   "metadata": {
    "slideshow": {
     "slide_type": "-"
    }
   },
   "source": [
    "En fin de partie, quand il n'y a plus d'allumettes, \n",
    "- soit la machine a gagné, et dans ce cas elle remet chaque jeton dans le gobelet où elle l'a pioché, \n",
    "- soit elle a perdu et dans ce cas elle remet tous les jetons piochés sauf le dernier -- ce choix a permis à l'humain de gagner -- et elle le met de côté.\n",
    "\n",
    "Au cours des parties successives, il peut arriver qu'un gobelet soit vide. Dans ce cas on retourne le gobelet à l'envers, et à partir de ce moment-là, si l'adversaire laisse un nombre d'allumettes pour lequel le gobelet est vide, la machine abandonne la partie, considère qu'elle a perdu et remet tous les jetons piochés dans leur gobelet sauf le dernier."
   ]
  },
  {
   "cell_type": "markdown",
   "metadata": {
    "slideshow": {
     "slide_type": "-"
    }
   },
   "source": [
    "**Constats** : \n",
    "\n",
    "La machine va souvent perdre au début, mais au fil des parties elle va s'améliorer et finir par suivre une stratégie qui la fera gagner à tous les coups."
   ]
  },
  {
   "cell_type": "markdown",
   "metadata": {
    "slideshow": {
     "slide_type": "-"
    }
   },
   "source": [
    "## Version 2 : programme Python "
   ]
  },
  {
   "cell_type": "code",
   "execution_count": 1,
   "metadata": {
    "execution": {
     "iopub.execute_input": "2020-07-30T22:19:06.581Z",
     "iopub.status.busy": "2020-07-30T22:19:06.572Z",
     "iopub.status.idle": "2020-07-30T22:19:07.197Z",
     "shell.execute_reply": "2020-07-30T22:19:07.184Z"
    },
    "jupyter": {
     "outputs_hidden": false,
     "source_hidden": false
    },
    "nteract": {
     "transient": {
      "deleting": false
     }
    },
    "slideshow": {
     "slide_type": "-"
    }
   },
   "outputs": [],
   "source": [
    "%matplotlib notebook\n",
    "from random import choice, randint\n",
    "import matplotlib.pyplot as plt"
   ]
  },
  {
   "cell_type": "markdown",
   "metadata": {
    "slideshow": {
     "slide_type": "-"
    }
   },
   "source": [
    "### Jeu de la machine : \n",
    "Les coups possibles au départ pour la machine sont de prendre 1, 2 ou 3 allumettes, s'il en reste au moins 3.\n",
    "\n",
    "S'il n'en reste que 2, elle peut en prendre 1 ou 2, et s'il n'en reste qu'une, la machine la prend. "
   ]
  },
  {
   "cell_type": "markdown",
   "metadata": {
    "slideshow": {
     "slide_type": "-"
    }
   },
   "source": [
    "On modélise la situation par un tableau comportant la liste des coups possibles dans chaque cas :\n",
    "\n",
    "```coups_possibles = [[1], [1, 2]] + [[1,2,3] for i in range(NB_ALLUMETTES - 2)]``` où ```NB_ALLUMETTES``` est le nombre initial d'allumettes, ici 8."
   ]
  },
  {
   "cell_type": "markdown",
   "metadata": {
    "slideshow": {
     "slide_type": "-"
    }
   },
   "source": [
    "Lorsqu'elle doit jouer, la machine choisit *au hasard* l'un des coups possibles pour le nombre d'allumettes restant. \n",
    "\n",
    "Si aucun coup n'est disponible, elle abandonne la partie qu'elle considère comme perdue.\n",
    "\n",
    "En fin de partie, si la machine a perdu, elle supprime de la liste des coups possibles le dernier coup réalisé.\n",
    "\n"
   ]
  },
  {
   "cell_type": "code",
   "execution_count": 2,
   "metadata": {
    "execution": {
     "iopub.execute_input": "2020-07-29T10:32:56.911Z",
     "iopub.status.busy": "2020-07-29T10:32:56.899Z",
     "iopub.status.idle": "2020-07-29T10:32:56.927Z",
     "shell.execute_reply": "2020-07-29T10:32:56.941Z"
    },
    "jupyter": {
     "outputs_hidden": false,
     "source_hidden": false
    },
    "nteract": {
     "transient": {
      "deleting": false
     }
    },
    "slideshow": {
     "slide_type": "-"
    }
   },
   "outputs": [],
   "source": [
    "def jouer_machine(nb_allumettes):\n",
    "    '''\n",
    "    - prend en paramètre le nombre d'allumettes restant à jouer\n",
    "    - renvoie le nombre d'allumettes prises lors du coup joué par la machine\n",
    "    et un booléen indiquant si la partie est perdue pour la machine\n",
    "    '''\n",
    "   \n",
    "    perdu = False\n",
    "    if coups_possibles[nb_allumettes - 1] != []:\n",
    "        coup_joue = choice(coups_possibles[nb_allumettes - 1])\n",
    "    else :\n",
    "        perdu = True\n",
    "        coup_joue = 0\n",
    "    return (coup_joue, perdu)"
   ]
  },
  {
   "cell_type": "markdown",
   "metadata": {
    "slideshow": {
     "slide_type": "-"
    }
   },
   "source": [
    "### Jeu de l'adversaire:\n",
    "L'adversaire adopte une stratégie élémentaire :\n",
    "- S'il reste au plus 3 allumettes, il les prend toutes -- et la partie est perdue pour la machine ; \n",
    "- sinon, il choisit aléatoirement, entre 1 et 3, le nombre d'allumettes à prendre."
   ]
  },
  {
   "cell_type": "code",
   "execution_count": 39,
   "metadata": {
    "execution": {
     "iopub.execute_input": "2020-07-29T10:33:11.961Z",
     "iopub.status.busy": "2020-07-29T10:33:11.952Z",
     "iopub.status.idle": "2020-07-29T10:33:11.974Z",
     "shell.execute_reply": "2020-07-29T10:33:11.986Z"
    },
    "jupyter": {
     "outputs_hidden": false,
     "source_hidden": false
    },
    "nteract": {
     "transient": {
      "deleting": false
     }
    },
    "slideshow": {
     "slide_type": "-"
    }
   },
   "outputs": [],
   "source": [
    "#version xpert\n",
    "def jouer_adversaire(nb_allumettes):\n",
    "    '''\n",
    "    - prend en paramètre le nombre d'allumettes restant à jouer\n",
    "    - renvoie le nombre d'allumettes prises lors du coup joué par l'adversaire\n",
    "    et un booléen indiquant si ce coup a conduit à la perte de la partie \n",
    "    pour la machine\n",
    "    '''\n",
    "    \n",
    "    perdu = False\n",
    "    if nb_allumettes < 4:\n",
    "        coup_joue = nb_allumettes\n",
    "        perdu = True\n",
    "    elif nb_allumettes % 4 != 0:\n",
    "         coup_joue = nb_allumettes % 4\n",
    "    else :\n",
    "        coup_joue = randint(1, 3)\n",
    "    return (coup_joue, perdu)"
   ]
  },
  {
   "cell_type": "markdown",
   "metadata": {},
   "source": [
    "### Déroulement du jeu"
   ]
  },
  {
   "cell_type": "code",
   "execution_count": 32,
   "metadata": {
    "execution": {
     "iopub.execute_input": "2020-07-30T22:40:35.447Z",
     "iopub.status.busy": "2020-07-30T22:40:35.435Z",
     "iopub.status.idle": "2020-07-30T22:40:35.463Z",
     "shell.execute_reply": "2020-07-30T22:40:35.474Z"
    },
    "jupyter": {
     "outputs_hidden": false,
     "source_hidden": false
    },
    "nteract": {
     "transient": {
      "deleting": false
     }
    }
   },
   "outputs": [],
   "source": [
    "NB_ALLUMETTES = 8"
   ]
  },
  {
   "cell_type": "code",
   "execution_count": 5,
   "metadata": {
    "execution": {
     "iopub.execute_input": "2020-07-29T10:33:27.021Z",
     "iopub.status.busy": "2020-07-29T10:33:27.014Z",
     "iopub.status.idle": "2020-07-29T10:33:27.034Z",
     "shell.execute_reply": "2020-07-29T10:33:27.042Z"
    },
    "jupyter": {
     "outputs_hidden": false,
     "source_hidden": false
    },
    "nteract": {
     "transient": {
      "deleting": false
     }
    },
    "slideshow": {
     "slide_type": "-"
    }
   },
   "outputs": [],
   "source": [
    "def jouer_partie(n):\n",
    "    ''' \n",
    "    simule le déroulement de n parties successives, en faisant toujours \n",
    "    commencer l'adversaire de la machine\n",
    "    et renvoie la liste des rangs des parties perdues\n",
    "    '''\n",
    "    \n",
    "    parties_perdues = []\n",
    "    \n",
    "    for i in range(n):\n",
    "        perdu = False # perdu prend la valeur True lorsque la machine perd la partie\n",
    "        allumettes = [NB_ALLUMETTES] # contient les valeurs successives au \n",
    "        # cours d'une partie du nombre d'allumettes restantes \n",
    "       \n",
    "        while not perdu and allumettes[-1] > 0 :\n",
    "            #l'adversaire joue \n",
    "            nb_allumettes, perdu = jouer_adversaire(allumettes[-1])\n",
    "            allumettes.append(allumettes[-1] - nb_allumettes)\n",
    "            \n",
    "            if perdu : \n",
    "                # le dernier coup de la machine a permis à l'adversaire de \n",
    "                # gagner : on supprime le coup correspondant de la \n",
    "                # liste des coups possibles\n",
    "                coups_possibles[allumettes[-3] - 1].remove(allumettes[-3] - allumettes[-2])\n",
    "               \n",
    "            else :\n",
    "                # la machine joue\n",
    "                nb_allumettes, perdu = jouer_machine(allumettes[-1])\n",
    "                allumettes.append(allumettes[-1] - nb_allumettes)\n",
    "                \n",
    "                if perdu :  \n",
    "                    #le précédent coup de la machine a conduit à sa défaite : \n",
    "                    # on supprime le coup correspondant de la liste des coups possibles\n",
    "                    coups_possibles[allumettes[-4] - 1].remove(allumettes[-4] - allumettes[-3])\n",
    "                    \n",
    "        if perdu :\n",
    "            parties_perdues.append(i)\n",
    "           \n",
    "    return (parties_perdues)\n",
    "  \n",
    "  "
   ]
  },
  {
   "cell_type": "markdown",
   "metadata": {},
   "source": [
    "## Exemples de situations possibles au bout d'une partie "
   ]
  },
  {
   "cell_type": "markdown",
   "metadata": {},
   "source": [
    "### allumettes = [8, 7, 4, 2, 1, 0]   \n",
    "on supprime le jeton 1 du gobelet 2  \n",
    "`coups_possibles = [[1], [2], [1, 2, 3], [1, 2, 3], [1, 2, 3], [1, 2, 3], [1, 2, 3], [1, 2, 3]]`\n",
    "\n",
    "### allumettes = [8, 6, 5, 3, 2, 0] \n",
    "on supprime le jeton 1 du gobelet 3  \n",
    "`coups_possibles = [[1], [1, 2], [2, 3], [1, 2, 3], [1, 2, 3], [1, 2, 3], [1, 2, 3], [1, 2, 3]]`\n",
    "\n",
    "### allumettes = [8, 7, 5, 4, 1, 0]\n",
    "\n",
    "on supprime le jeton 3 du gobelet 4  \n",
    "`coups_possibles = [[1], [1, 2], [1, 2, 3], [1, 2], [1, 2, 3], [1, 2, 3], [1, 2, 3], [1, 2, 3]]`\n",
    "\n",
    "### allumettes = [8, 5, 2, 0]\n",
    "\n",
    "on supprime le jeton 3 du gobelet 5  \n",
    "`coups_possibles = [[1], [1, 2], [1, 2, 3], [1, 2, 3], [1, 2], [1, 2, 3], [1, 2, 3], [1, 2, 3]]`\n",
    "\n",
    "### allumettes = [8, 6, 3, 0]\n",
    "\n",
    "on supprime le jeton 3 du gobelet 6  \n",
    "`coups_possibles = [[1], [1, 2], [1, 2, 3], [1, 2, 3], [1, 2, 3], [1, 2], [1, 2, 3], [1, 2, 3]]`\n",
    "\n",
    "### allumettes = [8, 6, 5, 3, 0]\n",
    "\n",
    "la machine a gagné !\n",
    "\n",
    "`coups_possibles = [[1], [1, 2], [1, 2, 3], [1, 2, 3], [1, 2, 3], [1, 2, 3], [1, 2, 3], [1, 2, 3]]`\n"
   ]
  },
  {
   "cell_type": "markdown",
   "metadata": {},
   "source": [
    "## Exemples de situations nécessitant plus d'une partie\n",
    "### allumettes = [8, 6, 5, 4, 4]  \n",
    "avec `coups_possibles[4] = []`: on supprime le jeton 1 du gobelet 6\n",
    "\n",
    "### allumettes = [8, 7, 6, 4, 4]\n",
    "avec `coups_possibles[4] = []` : on supprime le jeton 1 du gobelet 7\n"
   ]
  },
  {
   "cell_type": "markdown",
   "metadata": {},
   "source": [
    "### Simulation d'un échantillon de parties jouées, affichage des rangs des parties perdues"
   ]
  },
  {
   "cell_type": "code",
   "execution_count": 40,
   "metadata": {
    "execution": {
     "iopub.execute_input": "2020-07-29T10:33:33.246Z",
     "iopub.status.busy": "2020-07-29T10:33:33.234Z",
     "iopub.status.idle": "2020-07-29T10:33:33.263Z",
     "shell.execute_reply": "2020-07-29T10:33:33.270Z"
    },
    "slideshow": {
     "slide_type": "-"
    }
   },
   "outputs": [
    {
     "name": "stdout",
     "output_type": "stream",
     "text": [
      "parties perdues :  12 [0, 1, 2, 5, 10, 12, 13, 15, 17, 18, 21, 24]\n"
     ]
    }
   ],
   "source": [
    "coups_possibles = [[1], [1, 2]] + [[1,2,3] for i in range(NB_ALLUMETTES - 2)]\n",
    "parties_perdues = jouer_partie(300)\n",
    "print(\"parties perdues : \", len(parties_perdues), parties_perdues)"
   ]
  },
  {
   "cell_type": "code",
   "execution_count": 41,
   "metadata": {},
   "outputs": [
    {
     "name": "stdout",
     "output_type": "stream",
     "text": [
      "[[1], [2], [3], [], [1], [2], [3], [1, 2, 3]]\n"
     ]
    }
   ],
   "source": [
    "print(coups_possibles)"
   ]
  },
  {
   "cell_type": "markdown",
   "metadata": {},
   "source": [
    "## Constat\n",
    "La machine a appris à gagner à ce jeu : elle ignorait comment faire au début et perdait fréquemment. Elle a appris de chaque partie perdue et obtient une stratégie parfaite. Les parties jouées, réelles (version 1) ou simulées (version 2), sont les données sur lesquelles s’appuie son apprentissage.\n",
    "Elle illustre bien que la machine peut apprendre une stratégie que l’humain ne connaissait pas au départ, et qui lui aurait demandé (à l’humain) de l’intelligence pour la découvrir."
   ]
  },
  {
   "cell_type": "markdown",
   "metadata": {},
   "source": [
    "### Simulation d'un nombre variable d'échantillons de parties jouées, affichage des rangs des dernières parties perdues"
   ]
  },
  {
   "cell_type": "code",
   "execution_count": 42,
   "metadata": {},
   "outputs": [],
   "source": [
    "def simulation(nb_echantillons, taille_echantillon):\n",
    "    global coups_possibles\n",
    "    dernieres_perdues = []\n",
    "    \n",
    "    for i in range(nb_echantillons):\n",
    "        coups_possibles = [[1], [1, 2]] + [[1,2,3] for i in range(NB_ALLUMETTES - 2)]\n",
    "        parties_perdues = jouer_partie(taille_echantillon)\n",
    "        if len(parties_perdues) == 12:\n",
    "            dernieres_perdues.append(parties_perdues[-1])\n",
    "        else:\n",
    "            dernieres_perdues.append(300)\n",
    "    return dernieres_perdues"
   ]
  },
  {
   "cell_type": "code",
   "execution_count": 43,
   "metadata": {},
   "outputs": [
    {
     "name": "stdout",
     "output_type": "stream",
     "text": [
      "[15, 28, 23, 30, 19, 26, 24, 16, 22, 21, 19, 16, 24, 20, 26, 20, 24, 23, 30, 20, 41, 20, 18, 17, 22]\n"
     ]
    }
   ],
   "source": [
    "print(simulation(25, 300))"
   ]
  },
  {
   "cell_type": "code",
   "execution_count": 44,
   "metadata": {
    "execution": {
     "iopub.execute_input": "2020-07-29T10:33:30.609Z",
     "iopub.status.busy": "2020-07-29T10:33:30.601Z",
     "iopub.status.idle": "2020-07-29T10:33:30.622Z",
     "shell.execute_reply": "2020-07-29T10:33:30.630Z"
    },
    "slideshow": {
     "slide_type": "-"
    }
   },
   "outputs": [],
   "source": [
    "def representation_graphique(n):\n",
    "    dernieres_perdues = simulation(n, 400)\n",
    "    plt.scatter(list(range(n)), dernieres_perdues, s = 8, c = 'r')\n",
    "    moyenne = sum(dernieres_perdues)/len(dernieres_perdues)\n",
    "    plt.axhline(moyenne)\n",
    "    plt.title('Rang de la dernière partie perdue')\n",
    "    plt.xlabel(\"numéro de l'échantillon\")\n",
    "    plt.ylabel('rang de la dernière partie perdue')\n",
    "    plt.show()"
   ]
  },
  {
   "cell_type": "code",
   "execution_count": 46,
   "metadata": {
    "execution": {
     "iopub.execute_input": "2020-07-29T10:34:04.272Z",
     "iopub.status.busy": "2020-07-29T10:34:04.264Z",
     "iopub.status.idle": "2020-07-29T10:34:04.300Z",
     "shell.execute_reply": "2020-07-29T10:34:04.313Z"
    },
    "scrolled": false,
    "slideshow": {
     "slide_type": "-"
    }
   },
   "outputs": [
    {
     "data": {
      "application/javascript": [
       "/* Put everything inside the global mpl namespace */\n",
       "/* global mpl */\n",
       "window.mpl = {};\n",
       "\n",
       "mpl.get_websocket_type = function () {\n",
       "    if (typeof WebSocket !== 'undefined') {\n",
       "        return WebSocket;\n",
       "    } else if (typeof MozWebSocket !== 'undefined') {\n",
       "        return MozWebSocket;\n",
       "    } else {\n",
       "        alert(\n",
       "            'Your browser does not have WebSocket support. ' +\n",
       "                'Please try Chrome, Safari or Firefox ≥ 6. ' +\n",
       "                'Firefox 4 and 5 are also supported but you ' +\n",
       "                'have to enable WebSockets in about:config.'\n",
       "        );\n",
       "    }\n",
       "};\n",
       "\n",
       "mpl.figure = function (figure_id, websocket, ondownload, parent_element) {\n",
       "    this.id = figure_id;\n",
       "\n",
       "    this.ws = websocket;\n",
       "\n",
       "    this.supports_binary = this.ws.binaryType !== undefined;\n",
       "\n",
       "    if (!this.supports_binary) {\n",
       "        var warnings = document.getElementById('mpl-warnings');\n",
       "        if (warnings) {\n",
       "            warnings.style.display = 'block';\n",
       "            warnings.textContent =\n",
       "                'This browser does not support binary websocket messages. ' +\n",
       "                'Performance may be slow.';\n",
       "        }\n",
       "    }\n",
       "\n",
       "    this.imageObj = new Image();\n",
       "\n",
       "    this.context = undefined;\n",
       "    this.message = undefined;\n",
       "    this.canvas = undefined;\n",
       "    this.rubberband_canvas = undefined;\n",
       "    this.rubberband_context = undefined;\n",
       "    this.format_dropdown = undefined;\n",
       "\n",
       "    this.image_mode = 'full';\n",
       "\n",
       "    this.root = document.createElement('div');\n",
       "    this.root.setAttribute('style', 'display: inline-block');\n",
       "    this._root_extra_style(this.root);\n",
       "\n",
       "    parent_element.appendChild(this.root);\n",
       "\n",
       "    this._init_header(this);\n",
       "    this._init_canvas(this);\n",
       "    this._init_toolbar(this);\n",
       "\n",
       "    var fig = this;\n",
       "\n",
       "    this.waiting = false;\n",
       "\n",
       "    this.ws.onopen = function () {\n",
       "        fig.send_message('supports_binary', { value: fig.supports_binary });\n",
       "        fig.send_message('send_image_mode', {});\n",
       "        if (fig.ratio !== 1) {\n",
       "            fig.send_message('set_dpi_ratio', { dpi_ratio: fig.ratio });\n",
       "        }\n",
       "        fig.send_message('refresh', {});\n",
       "    };\n",
       "\n",
       "    this.imageObj.onload = function () {\n",
       "        if (fig.image_mode === 'full') {\n",
       "            // Full images could contain transparency (where diff images\n",
       "            // almost always do), so we need to clear the canvas so that\n",
       "            // there is no ghosting.\n",
       "            fig.context.clearRect(0, 0, fig.canvas.width, fig.canvas.height);\n",
       "        }\n",
       "        fig.context.drawImage(fig.imageObj, 0, 0);\n",
       "    };\n",
       "\n",
       "    this.imageObj.onunload = function () {\n",
       "        fig.ws.close();\n",
       "    };\n",
       "\n",
       "    this.ws.onmessage = this._make_on_message_function(this);\n",
       "\n",
       "    this.ondownload = ondownload;\n",
       "};\n",
       "\n",
       "mpl.figure.prototype._init_header = function () {\n",
       "    var titlebar = document.createElement('div');\n",
       "    titlebar.classList =\n",
       "        'ui-dialog-titlebar ui-widget-header ui-corner-all ui-helper-clearfix';\n",
       "    var titletext = document.createElement('div');\n",
       "    titletext.classList = 'ui-dialog-title';\n",
       "    titletext.setAttribute(\n",
       "        'style',\n",
       "        'width: 100%; text-align: center; padding: 3px;'\n",
       "    );\n",
       "    titlebar.appendChild(titletext);\n",
       "    this.root.appendChild(titlebar);\n",
       "    this.header = titletext;\n",
       "};\n",
       "\n",
       "mpl.figure.prototype._canvas_extra_style = function (_canvas_div) {};\n",
       "\n",
       "mpl.figure.prototype._root_extra_style = function (_canvas_div) {};\n",
       "\n",
       "mpl.figure.prototype._init_canvas = function () {\n",
       "    var fig = this;\n",
       "\n",
       "    var canvas_div = (this.canvas_div = document.createElement('div'));\n",
       "    canvas_div.setAttribute(\n",
       "        'style',\n",
       "        'border: 1px solid #ddd;' +\n",
       "            'box-sizing: content-box;' +\n",
       "            'clear: both;' +\n",
       "            'min-height: 1px;' +\n",
       "            'min-width: 1px;' +\n",
       "            'outline: 0;' +\n",
       "            'overflow: hidden;' +\n",
       "            'position: relative;' +\n",
       "            'resize: both;'\n",
       "    );\n",
       "\n",
       "    function on_keyboard_event_closure(name) {\n",
       "        return function (event) {\n",
       "            return fig.key_event(event, name);\n",
       "        };\n",
       "    }\n",
       "\n",
       "    canvas_div.addEventListener(\n",
       "        'keydown',\n",
       "        on_keyboard_event_closure('key_press')\n",
       "    );\n",
       "    canvas_div.addEventListener(\n",
       "        'keyup',\n",
       "        on_keyboard_event_closure('key_release')\n",
       "    );\n",
       "\n",
       "    this._canvas_extra_style(canvas_div);\n",
       "    this.root.appendChild(canvas_div);\n",
       "\n",
       "    var canvas = (this.canvas = document.createElement('canvas'));\n",
       "    canvas.classList.add('mpl-canvas');\n",
       "    canvas.setAttribute('style', 'box-sizing: content-box;');\n",
       "\n",
       "    this.context = canvas.getContext('2d');\n",
       "\n",
       "    var backingStore =\n",
       "        this.context.backingStorePixelRatio ||\n",
       "        this.context.webkitBackingStorePixelRatio ||\n",
       "        this.context.mozBackingStorePixelRatio ||\n",
       "        this.context.msBackingStorePixelRatio ||\n",
       "        this.context.oBackingStorePixelRatio ||\n",
       "        this.context.backingStorePixelRatio ||\n",
       "        1;\n",
       "\n",
       "    this.ratio = (window.devicePixelRatio || 1) / backingStore;\n",
       "    if (this.ratio !== 1) {\n",
       "        fig.send_message('set_dpi_ratio', { dpi_ratio: this.ratio });\n",
       "    }\n",
       "\n",
       "    var rubberband_canvas = (this.rubberband_canvas = document.createElement(\n",
       "        'canvas'\n",
       "    ));\n",
       "    rubberband_canvas.setAttribute(\n",
       "        'style',\n",
       "        'box-sizing: content-box; position: absolute; left: 0; top: 0; z-index: 1;'\n",
       "    );\n",
       "\n",
       "    var resizeObserver = new ResizeObserver(function (entries) {\n",
       "        var nentries = entries.length;\n",
       "        for (var i = 0; i < nentries; i++) {\n",
       "            var entry = entries[i];\n",
       "            var width, height;\n",
       "            if (entry.contentBoxSize) {\n",
       "                if (entry.contentBoxSize instanceof Array) {\n",
       "                    // Chrome 84 implements new version of spec.\n",
       "                    width = entry.contentBoxSize[0].inlineSize;\n",
       "                    height = entry.contentBoxSize[0].blockSize;\n",
       "                } else {\n",
       "                    // Firefox implements old version of spec.\n",
       "                    width = entry.contentBoxSize.inlineSize;\n",
       "                    height = entry.contentBoxSize.blockSize;\n",
       "                }\n",
       "            } else {\n",
       "                // Chrome <84 implements even older version of spec.\n",
       "                width = entry.contentRect.width;\n",
       "                height = entry.contentRect.height;\n",
       "            }\n",
       "\n",
       "            // Keep the size of the canvas and rubber band canvas in sync with\n",
       "            // the canvas container.\n",
       "            if (entry.devicePixelContentBoxSize) {\n",
       "                // Chrome 84 implements new version of spec.\n",
       "                canvas.setAttribute(\n",
       "                    'width',\n",
       "                    entry.devicePixelContentBoxSize[0].inlineSize\n",
       "                );\n",
       "                canvas.setAttribute(\n",
       "                    'height',\n",
       "                    entry.devicePixelContentBoxSize[0].blockSize\n",
       "                );\n",
       "            } else {\n",
       "                canvas.setAttribute('width', width * fig.ratio);\n",
       "                canvas.setAttribute('height', height * fig.ratio);\n",
       "            }\n",
       "            canvas.setAttribute(\n",
       "                'style',\n",
       "                'width: ' + width + 'px; height: ' + height + 'px;'\n",
       "            );\n",
       "\n",
       "            rubberband_canvas.setAttribute('width', width);\n",
       "            rubberband_canvas.setAttribute('height', height);\n",
       "\n",
       "            // And update the size in Python. We ignore the initial 0/0 size\n",
       "            // that occurs as the element is placed into the DOM, which should\n",
       "            // otherwise not happen due to the minimum size styling.\n",
       "            if (width != 0 && height != 0) {\n",
       "                fig.request_resize(width, height);\n",
       "            }\n",
       "        }\n",
       "    });\n",
       "    resizeObserver.observe(canvas_div);\n",
       "\n",
       "    function on_mouse_event_closure(name) {\n",
       "        return function (event) {\n",
       "            return fig.mouse_event(event, name);\n",
       "        };\n",
       "    }\n",
       "\n",
       "    rubberband_canvas.addEventListener(\n",
       "        'mousedown',\n",
       "        on_mouse_event_closure('button_press')\n",
       "    );\n",
       "    rubberband_canvas.addEventListener(\n",
       "        'mouseup',\n",
       "        on_mouse_event_closure('button_release')\n",
       "    );\n",
       "    // Throttle sequential mouse events to 1 every 20ms.\n",
       "    rubberband_canvas.addEventListener(\n",
       "        'mousemove',\n",
       "        on_mouse_event_closure('motion_notify')\n",
       "    );\n",
       "\n",
       "    rubberband_canvas.addEventListener(\n",
       "        'mouseenter',\n",
       "        on_mouse_event_closure('figure_enter')\n",
       "    );\n",
       "    rubberband_canvas.addEventListener(\n",
       "        'mouseleave',\n",
       "        on_mouse_event_closure('figure_leave')\n",
       "    );\n",
       "\n",
       "    canvas_div.addEventListener('wheel', function (event) {\n",
       "        if (event.deltaY < 0) {\n",
       "            event.step = 1;\n",
       "        } else {\n",
       "            event.step = -1;\n",
       "        }\n",
       "        on_mouse_event_closure('scroll')(event);\n",
       "    });\n",
       "\n",
       "    canvas_div.appendChild(canvas);\n",
       "    canvas_div.appendChild(rubberband_canvas);\n",
       "\n",
       "    this.rubberband_context = rubberband_canvas.getContext('2d');\n",
       "    this.rubberband_context.strokeStyle = '#000000';\n",
       "\n",
       "    this._resize_canvas = function (width, height, forward) {\n",
       "        if (forward) {\n",
       "            canvas_div.style.width = width + 'px';\n",
       "            canvas_div.style.height = height + 'px';\n",
       "        }\n",
       "    };\n",
       "\n",
       "    // Disable right mouse context menu.\n",
       "    this.rubberband_canvas.addEventListener('contextmenu', function (_e) {\n",
       "        event.preventDefault();\n",
       "        return false;\n",
       "    });\n",
       "\n",
       "    function set_focus() {\n",
       "        canvas.focus();\n",
       "        canvas_div.focus();\n",
       "    }\n",
       "\n",
       "    window.setTimeout(set_focus, 100);\n",
       "};\n",
       "\n",
       "mpl.figure.prototype._init_toolbar = function () {\n",
       "    var fig = this;\n",
       "\n",
       "    var toolbar = document.createElement('div');\n",
       "    toolbar.classList = 'mpl-toolbar';\n",
       "    this.root.appendChild(toolbar);\n",
       "\n",
       "    function on_click_closure(name) {\n",
       "        return function (_event) {\n",
       "            return fig.toolbar_button_onclick(name);\n",
       "        };\n",
       "    }\n",
       "\n",
       "    function on_mouseover_closure(tooltip) {\n",
       "        return function (event) {\n",
       "            if (!event.currentTarget.disabled) {\n",
       "                return fig.toolbar_button_onmouseover(tooltip);\n",
       "            }\n",
       "        };\n",
       "    }\n",
       "\n",
       "    fig.buttons = {};\n",
       "    var buttonGroup = document.createElement('div');\n",
       "    buttonGroup.classList = 'mpl-button-group';\n",
       "    for (var toolbar_ind in mpl.toolbar_items) {\n",
       "        var name = mpl.toolbar_items[toolbar_ind][0];\n",
       "        var tooltip = mpl.toolbar_items[toolbar_ind][1];\n",
       "        var image = mpl.toolbar_items[toolbar_ind][2];\n",
       "        var method_name = mpl.toolbar_items[toolbar_ind][3];\n",
       "\n",
       "        if (!name) {\n",
       "            /* Instead of a spacer, we start a new button group. */\n",
       "            if (buttonGroup.hasChildNodes()) {\n",
       "                toolbar.appendChild(buttonGroup);\n",
       "            }\n",
       "            buttonGroup = document.createElement('div');\n",
       "            buttonGroup.classList = 'mpl-button-group';\n",
       "            continue;\n",
       "        }\n",
       "\n",
       "        var button = (fig.buttons[name] = document.createElement('button'));\n",
       "        button.classList = 'mpl-widget';\n",
       "        button.setAttribute('role', 'button');\n",
       "        button.setAttribute('aria-disabled', 'false');\n",
       "        button.addEventListener('click', on_click_closure(method_name));\n",
       "        button.addEventListener('mouseover', on_mouseover_closure(tooltip));\n",
       "\n",
       "        var icon_img = document.createElement('img');\n",
       "        icon_img.src = '_images/' + image + '.png';\n",
       "        icon_img.srcset = '_images/' + image + '_large.png 2x';\n",
       "        icon_img.alt = tooltip;\n",
       "        button.appendChild(icon_img);\n",
       "\n",
       "        buttonGroup.appendChild(button);\n",
       "    }\n",
       "\n",
       "    if (buttonGroup.hasChildNodes()) {\n",
       "        toolbar.appendChild(buttonGroup);\n",
       "    }\n",
       "\n",
       "    var fmt_picker = document.createElement('select');\n",
       "    fmt_picker.classList = 'mpl-widget';\n",
       "    toolbar.appendChild(fmt_picker);\n",
       "    this.format_dropdown = fmt_picker;\n",
       "\n",
       "    for (var ind in mpl.extensions) {\n",
       "        var fmt = mpl.extensions[ind];\n",
       "        var option = document.createElement('option');\n",
       "        option.selected = fmt === mpl.default_extension;\n",
       "        option.innerHTML = fmt;\n",
       "        fmt_picker.appendChild(option);\n",
       "    }\n",
       "\n",
       "    var status_bar = document.createElement('span');\n",
       "    status_bar.classList = 'mpl-message';\n",
       "    toolbar.appendChild(status_bar);\n",
       "    this.message = status_bar;\n",
       "};\n",
       "\n",
       "mpl.figure.prototype.request_resize = function (x_pixels, y_pixels) {\n",
       "    // Request matplotlib to resize the figure. Matplotlib will then trigger a resize in the client,\n",
       "    // which will in turn request a refresh of the image.\n",
       "    this.send_message('resize', { width: x_pixels, height: y_pixels });\n",
       "};\n",
       "\n",
       "mpl.figure.prototype.send_message = function (type, properties) {\n",
       "    properties['type'] = type;\n",
       "    properties['figure_id'] = this.id;\n",
       "    this.ws.send(JSON.stringify(properties));\n",
       "};\n",
       "\n",
       "mpl.figure.prototype.send_draw_message = function () {\n",
       "    if (!this.waiting) {\n",
       "        this.waiting = true;\n",
       "        this.ws.send(JSON.stringify({ type: 'draw', figure_id: this.id }));\n",
       "    }\n",
       "};\n",
       "\n",
       "mpl.figure.prototype.handle_save = function (fig, _msg) {\n",
       "    var format_dropdown = fig.format_dropdown;\n",
       "    var format = format_dropdown.options[format_dropdown.selectedIndex].value;\n",
       "    fig.ondownload(fig, format);\n",
       "};\n",
       "\n",
       "mpl.figure.prototype.handle_resize = function (fig, msg) {\n",
       "    var size = msg['size'];\n",
       "    if (size[0] !== fig.canvas.width || size[1] !== fig.canvas.height) {\n",
       "        fig._resize_canvas(size[0], size[1], msg['forward']);\n",
       "        fig.send_message('refresh', {});\n",
       "    }\n",
       "};\n",
       "\n",
       "mpl.figure.prototype.handle_rubberband = function (fig, msg) {\n",
       "    var x0 = msg['x0'] / fig.ratio;\n",
       "    var y0 = (fig.canvas.height - msg['y0']) / fig.ratio;\n",
       "    var x1 = msg['x1'] / fig.ratio;\n",
       "    var y1 = (fig.canvas.height - msg['y1']) / fig.ratio;\n",
       "    x0 = Math.floor(x0) + 0.5;\n",
       "    y0 = Math.floor(y0) + 0.5;\n",
       "    x1 = Math.floor(x1) + 0.5;\n",
       "    y1 = Math.floor(y1) + 0.5;\n",
       "    var min_x = Math.min(x0, x1);\n",
       "    var min_y = Math.min(y0, y1);\n",
       "    var width = Math.abs(x1 - x0);\n",
       "    var height = Math.abs(y1 - y0);\n",
       "\n",
       "    fig.rubberband_context.clearRect(\n",
       "        0,\n",
       "        0,\n",
       "        fig.canvas.width / fig.ratio,\n",
       "        fig.canvas.height / fig.ratio\n",
       "    );\n",
       "\n",
       "    fig.rubberband_context.strokeRect(min_x, min_y, width, height);\n",
       "};\n",
       "\n",
       "mpl.figure.prototype.handle_figure_label = function (fig, msg) {\n",
       "    // Updates the figure title.\n",
       "    fig.header.textContent = msg['label'];\n",
       "};\n",
       "\n",
       "mpl.figure.prototype.handle_cursor = function (fig, msg) {\n",
       "    var cursor = msg['cursor'];\n",
       "    switch (cursor) {\n",
       "        case 0:\n",
       "            cursor = 'pointer';\n",
       "            break;\n",
       "        case 1:\n",
       "            cursor = 'default';\n",
       "            break;\n",
       "        case 2:\n",
       "            cursor = 'crosshair';\n",
       "            break;\n",
       "        case 3:\n",
       "            cursor = 'move';\n",
       "            break;\n",
       "    }\n",
       "    fig.rubberband_canvas.style.cursor = cursor;\n",
       "};\n",
       "\n",
       "mpl.figure.prototype.handle_message = function (fig, msg) {\n",
       "    fig.message.textContent = msg['message'];\n",
       "};\n",
       "\n",
       "mpl.figure.prototype.handle_draw = function (fig, _msg) {\n",
       "    // Request the server to send over a new figure.\n",
       "    fig.send_draw_message();\n",
       "};\n",
       "\n",
       "mpl.figure.prototype.handle_image_mode = function (fig, msg) {\n",
       "    fig.image_mode = msg['mode'];\n",
       "};\n",
       "\n",
       "mpl.figure.prototype.handle_history_buttons = function (fig, msg) {\n",
       "    for (var key in msg) {\n",
       "        if (!(key in fig.buttons)) {\n",
       "            continue;\n",
       "        }\n",
       "        fig.buttons[key].disabled = !msg[key];\n",
       "        fig.buttons[key].setAttribute('aria-disabled', !msg[key]);\n",
       "    }\n",
       "};\n",
       "\n",
       "mpl.figure.prototype.handle_navigate_mode = function (fig, msg) {\n",
       "    if (msg['mode'] === 'PAN') {\n",
       "        fig.buttons['Pan'].classList.add('active');\n",
       "        fig.buttons['Zoom'].classList.remove('active');\n",
       "    } else if (msg['mode'] === 'ZOOM') {\n",
       "        fig.buttons['Pan'].classList.remove('active');\n",
       "        fig.buttons['Zoom'].classList.add('active');\n",
       "    } else {\n",
       "        fig.buttons['Pan'].classList.remove('active');\n",
       "        fig.buttons['Zoom'].classList.remove('active');\n",
       "    }\n",
       "};\n",
       "\n",
       "mpl.figure.prototype.updated_canvas_event = function () {\n",
       "    // Called whenever the canvas gets updated.\n",
       "    this.send_message('ack', {});\n",
       "};\n",
       "\n",
       "// A function to construct a web socket function for onmessage handling.\n",
       "// Called in the figure constructor.\n",
       "mpl.figure.prototype._make_on_message_function = function (fig) {\n",
       "    return function socket_on_message(evt) {\n",
       "        if (evt.data instanceof Blob) {\n",
       "            /* FIXME: We get \"Resource interpreted as Image but\n",
       "             * transferred with MIME type text/plain:\" errors on\n",
       "             * Chrome.  But how to set the MIME type?  It doesn't seem\n",
       "             * to be part of the websocket stream */\n",
       "            evt.data.type = 'image/png';\n",
       "\n",
       "            /* Free the memory for the previous frames */\n",
       "            if (fig.imageObj.src) {\n",
       "                (window.URL || window.webkitURL).revokeObjectURL(\n",
       "                    fig.imageObj.src\n",
       "                );\n",
       "            }\n",
       "\n",
       "            fig.imageObj.src = (window.URL || window.webkitURL).createObjectURL(\n",
       "                evt.data\n",
       "            );\n",
       "            fig.updated_canvas_event();\n",
       "            fig.waiting = false;\n",
       "            return;\n",
       "        } else if (\n",
       "            typeof evt.data === 'string' &&\n",
       "            evt.data.slice(0, 21) === 'data:image/png;base64'\n",
       "        ) {\n",
       "            fig.imageObj.src = evt.data;\n",
       "            fig.updated_canvas_event();\n",
       "            fig.waiting = false;\n",
       "            return;\n",
       "        }\n",
       "\n",
       "        var msg = JSON.parse(evt.data);\n",
       "        var msg_type = msg['type'];\n",
       "\n",
       "        // Call the  \"handle_{type}\" callback, which takes\n",
       "        // the figure and JSON message as its only arguments.\n",
       "        try {\n",
       "            var callback = fig['handle_' + msg_type];\n",
       "        } catch (e) {\n",
       "            console.log(\n",
       "                \"No handler for the '\" + msg_type + \"' message type: \",\n",
       "                msg\n",
       "            );\n",
       "            return;\n",
       "        }\n",
       "\n",
       "        if (callback) {\n",
       "            try {\n",
       "                // console.log(\"Handling '\" + msg_type + \"' message: \", msg);\n",
       "                callback(fig, msg);\n",
       "            } catch (e) {\n",
       "                console.log(\n",
       "                    \"Exception inside the 'handler_\" + msg_type + \"' callback:\",\n",
       "                    e,\n",
       "                    e.stack,\n",
       "                    msg\n",
       "                );\n",
       "            }\n",
       "        }\n",
       "    };\n",
       "};\n",
       "\n",
       "// from http://stackoverflow.com/questions/1114465/getting-mouse-location-in-canvas\n",
       "mpl.findpos = function (e) {\n",
       "    //this section is from http://www.quirksmode.org/js/events_properties.html\n",
       "    var targ;\n",
       "    if (!e) {\n",
       "        e = window.event;\n",
       "    }\n",
       "    if (e.target) {\n",
       "        targ = e.target;\n",
       "    } else if (e.srcElement) {\n",
       "        targ = e.srcElement;\n",
       "    }\n",
       "    if (targ.nodeType === 3) {\n",
       "        // defeat Safari bug\n",
       "        targ = targ.parentNode;\n",
       "    }\n",
       "\n",
       "    // pageX,Y are the mouse positions relative to the document\n",
       "    var boundingRect = targ.getBoundingClientRect();\n",
       "    var x = e.pageX - (boundingRect.left + document.body.scrollLeft);\n",
       "    var y = e.pageY - (boundingRect.top + document.body.scrollTop);\n",
       "\n",
       "    return { x: x, y: y };\n",
       "};\n",
       "\n",
       "/*\n",
       " * return a copy of an object with only non-object keys\n",
       " * we need this to avoid circular references\n",
       " * http://stackoverflow.com/a/24161582/3208463\n",
       " */\n",
       "function simpleKeys(original) {\n",
       "    return Object.keys(original).reduce(function (obj, key) {\n",
       "        if (typeof original[key] !== 'object') {\n",
       "            obj[key] = original[key];\n",
       "        }\n",
       "        return obj;\n",
       "    }, {});\n",
       "}\n",
       "\n",
       "mpl.figure.prototype.mouse_event = function (event, name) {\n",
       "    var canvas_pos = mpl.findpos(event);\n",
       "\n",
       "    if (name === 'button_press') {\n",
       "        this.canvas.focus();\n",
       "        this.canvas_div.focus();\n",
       "    }\n",
       "\n",
       "    var x = canvas_pos.x * this.ratio;\n",
       "    var y = canvas_pos.y * this.ratio;\n",
       "\n",
       "    this.send_message(name, {\n",
       "        x: x,\n",
       "        y: y,\n",
       "        button: event.button,\n",
       "        step: event.step,\n",
       "        guiEvent: simpleKeys(event),\n",
       "    });\n",
       "\n",
       "    /* This prevents the web browser from automatically changing to\n",
       "     * the text insertion cursor when the button is pressed.  We want\n",
       "     * to control all of the cursor setting manually through the\n",
       "     * 'cursor' event from matplotlib */\n",
       "    event.preventDefault();\n",
       "    return false;\n",
       "};\n",
       "\n",
       "mpl.figure.prototype._key_event_extra = function (_event, _name) {\n",
       "    // Handle any extra behaviour associated with a key event\n",
       "};\n",
       "\n",
       "mpl.figure.prototype.key_event = function (event, name) {\n",
       "    // Prevent repeat events\n",
       "    if (name === 'key_press') {\n",
       "        if (event.which === this._key) {\n",
       "            return;\n",
       "        } else {\n",
       "            this._key = event.which;\n",
       "        }\n",
       "    }\n",
       "    if (name === 'key_release') {\n",
       "        this._key = null;\n",
       "    }\n",
       "\n",
       "    var value = '';\n",
       "    if (event.ctrlKey && event.which !== 17) {\n",
       "        value += 'ctrl+';\n",
       "    }\n",
       "    if (event.altKey && event.which !== 18) {\n",
       "        value += 'alt+';\n",
       "    }\n",
       "    if (event.shiftKey && event.which !== 16) {\n",
       "        value += 'shift+';\n",
       "    }\n",
       "\n",
       "    value += 'k';\n",
       "    value += event.which.toString();\n",
       "\n",
       "    this._key_event_extra(event, name);\n",
       "\n",
       "    this.send_message(name, { key: value, guiEvent: simpleKeys(event) });\n",
       "    return false;\n",
       "};\n",
       "\n",
       "mpl.figure.prototype.toolbar_button_onclick = function (name) {\n",
       "    if (name === 'download') {\n",
       "        this.handle_save(this, null);\n",
       "    } else {\n",
       "        this.send_message('toolbar_button', { name: name });\n",
       "    }\n",
       "};\n",
       "\n",
       "mpl.figure.prototype.toolbar_button_onmouseover = function (tooltip) {\n",
       "    this.message.textContent = tooltip;\n",
       "};\n",
       "mpl.toolbar_items = [[\"Home\", \"Reset original view\", \"fa fa-home icon-home\", \"home\"], [\"Back\", \"Back to previous view\", \"fa fa-arrow-left icon-arrow-left\", \"back\"], [\"Forward\", \"Forward to next view\", \"fa fa-arrow-right icon-arrow-right\", \"forward\"], [\"\", \"\", \"\", \"\"], [\"Pan\", \"Left button pans, Right button zooms\\nx/y fixes axis, CTRL fixes aspect\", \"fa fa-arrows icon-move\", \"pan\"], [\"Zoom\", \"Zoom to rectangle\\nx/y fixes axis, CTRL fixes aspect\", \"fa fa-square-o icon-check-empty\", \"zoom\"], [\"\", \"\", \"\", \"\"], [\"Download\", \"Download plot\", \"fa fa-floppy-o icon-save\", \"download\"]];\n",
       "\n",
       "mpl.extensions = [\"eps\", \"jpeg\", \"pdf\", \"png\", \"ps\", \"raw\", \"svg\", \"tif\"];\n",
       "\n",
       "mpl.default_extension = \"png\";/* global mpl */\n",
       "\n",
       "var comm_websocket_adapter = function (comm) {\n",
       "    // Create a \"websocket\"-like object which calls the given IPython comm\n",
       "    // object with the appropriate methods. Currently this is a non binary\n",
       "    // socket, so there is still some room for performance tuning.\n",
       "    var ws = {};\n",
       "\n",
       "    ws.close = function () {\n",
       "        comm.close();\n",
       "    };\n",
       "    ws.send = function (m) {\n",
       "        //console.log('sending', m);\n",
       "        comm.send(m);\n",
       "    };\n",
       "    // Register the callback with on_msg.\n",
       "    comm.on_msg(function (msg) {\n",
       "        //console.log('receiving', msg['content']['data'], msg);\n",
       "        // Pass the mpl event to the overridden (by mpl) onmessage function.\n",
       "        ws.onmessage(msg['content']['data']);\n",
       "    });\n",
       "    return ws;\n",
       "};\n",
       "\n",
       "mpl.mpl_figure_comm = function (comm, msg) {\n",
       "    // This is the function which gets called when the mpl process\n",
       "    // starts-up an IPython Comm through the \"matplotlib\" channel.\n",
       "\n",
       "    var id = msg.content.data.id;\n",
       "    // Get hold of the div created by the display call when the Comm\n",
       "    // socket was opened in Python.\n",
       "    var element = document.getElementById(id);\n",
       "    var ws_proxy = comm_websocket_adapter(comm);\n",
       "\n",
       "    function ondownload(figure, _format) {\n",
       "        window.open(figure.canvas.toDataURL());\n",
       "    }\n",
       "\n",
       "    var fig = new mpl.figure(id, ws_proxy, ondownload, element);\n",
       "\n",
       "    // Call onopen now - mpl needs it, as it is assuming we've passed it a real\n",
       "    // web socket which is closed, not our websocket->open comm proxy.\n",
       "    ws_proxy.onopen();\n",
       "\n",
       "    fig.parent_element = element;\n",
       "    fig.cell_info = mpl.find_output_cell(\"<div id='\" + id + \"'></div>\");\n",
       "    if (!fig.cell_info) {\n",
       "        console.error('Failed to find cell for figure', id, fig);\n",
       "        return;\n",
       "    }\n",
       "    fig.cell_info[0].output_area.element.one(\n",
       "        'cleared',\n",
       "        { fig: fig },\n",
       "        fig._remove_fig_handler\n",
       "    );\n",
       "};\n",
       "\n",
       "mpl.figure.prototype.handle_close = function (fig, msg) {\n",
       "    var width = fig.canvas.width / fig.ratio;\n",
       "    fig.cell_info[0].output_area.element.off(\n",
       "        'cleared',\n",
       "        fig._remove_fig_handler\n",
       "    );\n",
       "\n",
       "    // Update the output cell to use the data from the current canvas.\n",
       "    fig.push_to_output();\n",
       "    var dataURL = fig.canvas.toDataURL();\n",
       "    // Re-enable the keyboard manager in IPython - without this line, in FF,\n",
       "    // the notebook keyboard shortcuts fail.\n",
       "    IPython.keyboard_manager.enable();\n",
       "    fig.parent_element.innerHTML =\n",
       "        '<img src=\"' + dataURL + '\" width=\"' + width + '\">';\n",
       "    fig.close_ws(fig, msg);\n",
       "};\n",
       "\n",
       "mpl.figure.prototype.close_ws = function (fig, msg) {\n",
       "    fig.send_message('closing', msg);\n",
       "    // fig.ws.close()\n",
       "};\n",
       "\n",
       "mpl.figure.prototype.push_to_output = function (_remove_interactive) {\n",
       "    // Turn the data on the canvas into data in the output cell.\n",
       "    var width = this.canvas.width / this.ratio;\n",
       "    var dataURL = this.canvas.toDataURL();\n",
       "    this.cell_info[1]['text/html'] =\n",
       "        '<img src=\"' + dataURL + '\" width=\"' + width + '\">';\n",
       "};\n",
       "\n",
       "mpl.figure.prototype.updated_canvas_event = function () {\n",
       "    // Tell IPython that the notebook contents must change.\n",
       "    IPython.notebook.set_dirty(true);\n",
       "    this.send_message('ack', {});\n",
       "    var fig = this;\n",
       "    // Wait a second, then push the new image to the DOM so\n",
       "    // that it is saved nicely (might be nice to debounce this).\n",
       "    setTimeout(function () {\n",
       "        fig.push_to_output();\n",
       "    }, 1000);\n",
       "};\n",
       "\n",
       "mpl.figure.prototype._init_toolbar = function () {\n",
       "    var fig = this;\n",
       "\n",
       "    var toolbar = document.createElement('div');\n",
       "    toolbar.classList = 'btn-toolbar';\n",
       "    this.root.appendChild(toolbar);\n",
       "\n",
       "    function on_click_closure(name) {\n",
       "        return function (_event) {\n",
       "            return fig.toolbar_button_onclick(name);\n",
       "        };\n",
       "    }\n",
       "\n",
       "    function on_mouseover_closure(tooltip) {\n",
       "        return function (event) {\n",
       "            if (!event.currentTarget.disabled) {\n",
       "                return fig.toolbar_button_onmouseover(tooltip);\n",
       "            }\n",
       "        };\n",
       "    }\n",
       "\n",
       "    fig.buttons = {};\n",
       "    var buttonGroup = document.createElement('div');\n",
       "    buttonGroup.classList = 'btn-group';\n",
       "    var button;\n",
       "    for (var toolbar_ind in mpl.toolbar_items) {\n",
       "        var name = mpl.toolbar_items[toolbar_ind][0];\n",
       "        var tooltip = mpl.toolbar_items[toolbar_ind][1];\n",
       "        var image = mpl.toolbar_items[toolbar_ind][2];\n",
       "        var method_name = mpl.toolbar_items[toolbar_ind][3];\n",
       "\n",
       "        if (!name) {\n",
       "            /* Instead of a spacer, we start a new button group. */\n",
       "            if (buttonGroup.hasChildNodes()) {\n",
       "                toolbar.appendChild(buttonGroup);\n",
       "            }\n",
       "            buttonGroup = document.createElement('div');\n",
       "            buttonGroup.classList = 'btn-group';\n",
       "            continue;\n",
       "        }\n",
       "\n",
       "        button = fig.buttons[name] = document.createElement('button');\n",
       "        button.classList = 'btn btn-default';\n",
       "        button.href = '#';\n",
       "        button.title = name;\n",
       "        button.innerHTML = '<i class=\"fa ' + image + ' fa-lg\"></i>';\n",
       "        button.addEventListener('click', on_click_closure(method_name));\n",
       "        button.addEventListener('mouseover', on_mouseover_closure(tooltip));\n",
       "        buttonGroup.appendChild(button);\n",
       "    }\n",
       "\n",
       "    if (buttonGroup.hasChildNodes()) {\n",
       "        toolbar.appendChild(buttonGroup);\n",
       "    }\n",
       "\n",
       "    // Add the status bar.\n",
       "    var status_bar = document.createElement('span');\n",
       "    status_bar.classList = 'mpl-message pull-right';\n",
       "    toolbar.appendChild(status_bar);\n",
       "    this.message = status_bar;\n",
       "\n",
       "    // Add the close button to the window.\n",
       "    var buttongrp = document.createElement('div');\n",
       "    buttongrp.classList = 'btn-group inline pull-right';\n",
       "    button = document.createElement('button');\n",
       "    button.classList = 'btn btn-mini btn-primary';\n",
       "    button.href = '#';\n",
       "    button.title = 'Stop Interaction';\n",
       "    button.innerHTML = '<i class=\"fa fa-power-off icon-remove icon-large\"></i>';\n",
       "    button.addEventListener('click', function (_evt) {\n",
       "        fig.handle_close(fig, {});\n",
       "    });\n",
       "    button.addEventListener(\n",
       "        'mouseover',\n",
       "        on_mouseover_closure('Stop Interaction')\n",
       "    );\n",
       "    buttongrp.appendChild(button);\n",
       "    var titlebar = this.root.querySelector('.ui-dialog-titlebar');\n",
       "    titlebar.insertBefore(buttongrp, titlebar.firstChild);\n",
       "};\n",
       "\n",
       "mpl.figure.prototype._remove_fig_handler = function (event) {\n",
       "    var fig = event.data.fig;\n",
       "    fig.close_ws(fig, {});\n",
       "};\n",
       "\n",
       "mpl.figure.prototype._root_extra_style = function (el) {\n",
       "    el.style.boxSizing = 'content-box'; // override notebook setting of border-box.\n",
       "};\n",
       "\n",
       "mpl.figure.prototype._canvas_extra_style = function (el) {\n",
       "    // this is important to make the div 'focusable\n",
       "    el.setAttribute('tabindex', 0);\n",
       "    // reach out to IPython and tell the keyboard manager to turn it's self\n",
       "    // off when our div gets focus\n",
       "\n",
       "    // location in version 3\n",
       "    if (IPython.notebook.keyboard_manager) {\n",
       "        IPython.notebook.keyboard_manager.register_events(el);\n",
       "    } else {\n",
       "        // location in version 2\n",
       "        IPython.keyboard_manager.register_events(el);\n",
       "    }\n",
       "};\n",
       "\n",
       "mpl.figure.prototype._key_event_extra = function (event, _name) {\n",
       "    var manager = IPython.notebook.keyboard_manager;\n",
       "    if (!manager) {\n",
       "        manager = IPython.keyboard_manager;\n",
       "    }\n",
       "\n",
       "    // Check for shift+enter\n",
       "    if (event.shiftKey && event.which === 13) {\n",
       "        this.canvas_div.blur();\n",
       "        // select the cell after this one\n",
       "        var index = IPython.notebook.find_cell_index(this.cell_info[0]);\n",
       "        IPython.notebook.select(index + 1);\n",
       "    }\n",
       "};\n",
       "\n",
       "mpl.figure.prototype.handle_save = function (fig, _msg) {\n",
       "    fig.ondownload(fig, null);\n",
       "};\n",
       "\n",
       "mpl.find_output_cell = function (html_output) {\n",
       "    // Return the cell and output element which can be found *uniquely* in the notebook.\n",
       "    // Note - this is a bit hacky, but it is done because the \"notebook_saving.Notebook\"\n",
       "    // IPython event is triggered only after the cells have been serialised, which for\n",
       "    // our purposes (turning an active figure into a static one), is too late.\n",
       "    var cells = IPython.notebook.get_cells();\n",
       "    var ncells = cells.length;\n",
       "    for (var i = 0; i < ncells; i++) {\n",
       "        var cell = cells[i];\n",
       "        if (cell.cell_type === 'code') {\n",
       "            for (var j = 0; j < cell.output_area.outputs.length; j++) {\n",
       "                var data = cell.output_area.outputs[j];\n",
       "                if (data.data) {\n",
       "                    // IPython >= 3 moved mimebundle to data attribute of output\n",
       "                    data = data.data;\n",
       "                }\n",
       "                if (data['text/html'] === html_output) {\n",
       "                    return [cell, data, j];\n",
       "                }\n",
       "            }\n",
       "        }\n",
       "    }\n",
       "};\n",
       "\n",
       "// Register the function which deals with the matplotlib target/channel.\n",
       "// The kernel may be null if the page has been refreshed.\n",
       "if (IPython.notebook.kernel !== null) {\n",
       "    IPython.notebook.kernel.comm_manager.register_target(\n",
       "        'matplotlib',\n",
       "        mpl.mpl_figure_comm\n",
       "    );\n",
       "}\n"
      ],
      "text/plain": [
       "<IPython.core.display.Javascript object>"
      ]
     },
     "metadata": {},
     "output_type": "display_data"
    },
    {
     "data": {
      "text/html": [
       "<img src=\"data:image/png;base64,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\" width=\"640\">"
      ],
      "text/plain": [
       "<IPython.core.display.HTML object>"
      ]
     },
     "metadata": {},
     "output_type": "display_data"
    }
   ],
   "source": [
    "representation_graphique(500)"
   ]
  },
  {
   "cell_type": "markdown",
   "metadata": {},
   "source": [
    "**Sources** :\n",
    "- [Quand une machine apprend à jouer au jeu de Nim (Marie Duflot)](https://members.loria.fr/MDuflot/files/med/IAnim.html), ([CC BY SA](https://creativecommons.org/licenses/by-nc-sa/4.0/deed.fr))\n"
   ]
  },
  {
   "cell_type": "markdown",
   "metadata": {},
   "source": [
    "**Pour aller plus loin** : \n",
    "- [Une machine en boites d'alumettes qui apprend à jouer au morpion, Lisa Rougetet](http://images.math.cnrs.fr/Une-machine-en-boites-d-allumettes-qui-apprend-a-jouer-au-Morpion.html)\n",
    "- [Un jeu pour comprendre l'apprentissage automatique,  Florent Madelaine & Malika More](http://www.tangente-education.com/article.php?art=4076&dos=158)\n",
    "- [La machine qui apprend à (bien) jouer toute seule, Eric Duchêne et Aline Parreau](https://projet.liris.cnrs.fr/lirismed/index.php?id=la-machine-qui-apprend-a-jouer-toute-seule)"
   ]
  },
  {
   "cell_type": "markdown",
   "metadata": {},
   "source": [
    "![](my_icons/CC-BY-SA_icon.png)"
   ]
  }
 ],
 "metadata": {
  "celltoolbar": "Aucun(e)",
  "kernel_info": {
   "name": "python3"
  },
  "kernelspec": {
   "display_name": "Python 3",
   "language": "python",
   "name": "python3"
  },
  "language_info": {
   "codemirror_mode": {
    "name": "ipython",
    "version": 3
   },
   "file_extension": ".py",
   "mimetype": "text/x-python",
   "name": "python",
   "nbconvert_exporter": "python",
   "pygments_lexer": "ipython3",
   "version": "3.8.2"
  },
  "nteract": {
   "version": "0.24.0"
  }
 },
 "nbformat": 4,
 "nbformat_minor": 4
}
